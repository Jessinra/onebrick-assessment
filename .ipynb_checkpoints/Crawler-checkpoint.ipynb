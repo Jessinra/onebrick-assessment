{
 "cells": [
  {
   "cell_type": "markdown",
   "metadata": {},
   "source": [
    "# Crawler Task"
   ]
  },
  {
   "cell_type": "markdown",
   "metadata": {},
   "source": [
    "As Backend Engineer, we would like you to create a programming Utility in your\n",
    "favorite programming language (preferably JAVA) that extracts top 100 products of\n",
    "category Mobile phones/Handphone from Tokopedia and stores it in a csv file. It\n",
    "should include the following information:\n",
    "1. Name of Product\n",
    "2. Description\n",
    "3. Image Link\n",
    "4. Price\n",
    "5. Rating (out of 5 stars)\n",
    "6. Name of store or merchant"
   ]
  },
  {
   "cell_type": "code",
   "execution_count": 1,
   "metadata": {},
   "outputs": [],
   "source": [
    "import requests\n",
    "from bs4 import BeautifulSoup\n",
    "from tqdm import tqdm"
   ]
  },
  {
   "cell_type": "code",
   "execution_count": 2,
   "metadata": {},
   "outputs": [],
   "source": [
    "URL = \"https://www.tokopedia.com/p/handphone-tablet/handphone\""
   ]
  },
  {
   "cell_type": "code",
   "execution_count": 3,
   "metadata": {},
   "outputs": [],
   "source": [
    "# Some parameter to update sorting mechanism\n",
    "# query_params = {\n",
    "#     \"terbaru\": \"ob=9\",\n",
    "#     \"ulasan\": \"ob=5\",\n",
    "#     \"sesuai\": \"ob=23\",\n",
    "# }"
   ]
  },
  {
   "cell_type": "code",
   "execution_count": 4,
   "metadata": {},
   "outputs": [],
   "source": [
    "params = {\n",
    "    \"ob\": 23,  # sort by 'sesuai'\n",
    "    \"page\": 1, # avaialble up to 50 ish \n",
    "}"
   ]
  },
  {
   "cell_type": "code",
   "execution_count": 5,
   "metadata": {},
   "outputs": [],
   "source": [
    "headers = {\n",
    "    \"Accept\": \"text/html,application/xhtml+xml,application/xml;q=0.9,image/webp,image/apng,*/*;q=0.8,application/signed-exchange;v=b3;q=0.9\", \n",
    "    \"Accept-Encoding\": \"gzip, deflate\", \n",
    "    \"Accept-Language\": \"en-GB,en-US;q=0.9,en;q=0.8\", \n",
    "    \"Dnt\": \"1\", \n",
    "    \"Upgrade-Insecure-Requests\": \"1\", \n",
    "    \"User-Agent\": \"Mozilla/5.0 (Macintosh; Intel Mac OS X 10_15_4) AppleWebKit/537.36 (KHTML, like Gecko) Chrome/83.0.4103.97 Safari/537.36\", \n",
    "}"
   ]
  },
  {
   "cell_type": "markdown",
   "metadata": {},
   "source": [
    "## Gathering product urls"
   ]
  },
  {
   "cell_type": "code",
   "execution_count": 6,
   "metadata": {},
   "outputs": [],
   "source": [
    "from urllib.parse import unquote\n",
    "\n",
    "class ProductListingPageSoup:\n",
    "    def __init__(self, content):\n",
    "        self.parsed = BeautifulSoup(content, \"html.parser\")\n",
    "        \n",
    "    def product_urls(self):\n",
    "        result_urls = []\n",
    "        \n",
    "        product_list_soup = self.parsed.find_all(\"div\", class_=\"css-bk6tzz e1nlzfl3\")\n",
    "        for p in product_list_soup:\n",
    "            url = self._parse_product_get_url(p)\n",
    "            if self._is_promo_url(url):\n",
    "                result_urls.append(self._parse_promo_url(url))\n",
    "            else:\n",
    "                result_urls.append(url)\n",
    "                \n",
    "        return result_urls\n",
    "        \n",
    "    def _parse_product_get_url(self, soup):\n",
    "        return soup.find(\"a\")[\"href\"]\n",
    "        \n",
    "    def _is_promo_url(self, url):\n",
    "        return url[:30] == \"https://ta.tokopedia.com/promo\"\n",
    "    \n",
    "    def _parse_promo_url(self, url):\n",
    "        real_url_idx = url.find(\"r=\")\n",
    "        real_url = url[real_url_idx+2:]\n",
    "        return unquote(real_url)"
   ]
  },
  {
   "cell_type": "code",
   "execution_count": 7,
   "metadata": {},
   "outputs": [
    {
     "name": "stderr",
     "output_type": "stream",
     "text": [
      "100%|██████████| 15/15 [00:24<00:00,  1.65s/it]\n"
     ]
    }
   ],
   "source": [
    "NUMBER_OF_PAGES = 15\n",
    "\n",
    "product_urls = []\n",
    "for i in tqdm(range(1, NUMBER_OF_PAGES+1)):\n",
    "    params[\"page\"] = i\n",
    "    r = requests.get(URL, headers=headers, params=params)\n",
    "    product_listing = ProductListingPageSoup(r.content)\n",
    "    product_urls += product_listing.product_urls()"
   ]
  },
  {
   "cell_type": "code",
   "execution_count": 8,
   "metadata": {},
   "outputs": [
    {
     "name": "stdout",
     "output_type": "stream",
     "text": [
      "100\n"
     ]
    },
    {
     "data": {
      "text/plain": [
       "['https://www.tokopedia.com/newrizkyapple/iphone-13-pro-max-dual-5g-1tb-512gb-256gb-128gb-pro-not-mini-12-14-13-pro-128gb-graphite-single?src=topads&page=1&ob=23&src=directory&management_type=1',\n",
       " 'https://www.tokopedia.com/studioponsel/ibox-iphone-13-128gb-dual-sim-nano-mini-red-black-blue-128-not-12-13-mini-single-red?src=topads&management_type=1&src=directory&ob=23',\n",
       " 'https://www.tokopedia.com/pratamaponsel112/infinix-hot-10s-6-128-garansi-resmi-purple?src=topads&ob=23&src=directory&management_type=1&t=desktop',\n",
       " 'https://www.tokopedia.com/studioponsel/google-pixel-6-6-pro-5g-12gb-128gb-8gb-256gb-black-coral-seafoam-stormy-black-pixel-6-8-256gb?src=topads&ob=23&page=1',\n",
       " 'https://www.tokopedia.com/studioponsel/ibox-iphone-13-mini-512gb-dual-256gb-128gb-purple-white-black-blue-12-128gb-inter-blue?src=topads&page=1&ob=23&src=directory&management_type=1&t=desktop']"
      ]
     },
     "execution_count": 8,
     "metadata": {},
     "output_type": "execute_result"
    }
   ],
   "source": [
    "# sample product urls  \n",
    "print(len(product_urls))\n",
    "product_urls[:5]"
   ]
  },
  {
   "cell_type": "markdown",
   "metadata": {},
   "source": [
    "## Navigate each product page, to find product details"
   ]
  },
  {
   "cell_type": "code",
   "execution_count": 19,
   "metadata": {},
   "outputs": [],
   "source": [
    "class ProductPageSoup:\n",
    "    \"\"\"\n",
    "    Wrapper class for GET product page response\n",
    "    \"\"\"\n",
    "    def __init__(self, content):\n",
    "        self.parsed = BeautifulSoup(content, \"html.parser\")\n",
    "        self.parsed_str = str(self.parsed)\n",
    "        \n",
    "    def title(self):\n",
    "        return self.parsed.find(\"h1\").text\n",
    "    \n",
    "    def price(self):\n",
    "        return self.parsed.find(\"div\", class_=\"price\").text\n",
    "    \n",
    "    def main_image_url(self):\n",
    "        return self.parsed.find(\"div\", class_=\"css-1nchjne\").img[\"src\"]\n",
    "    \n",
    "    def store_name(self):\n",
    "        nameStartIdx = self.parsed_str.find(\"shopName\") + 11\n",
    "        nameEndIdx = self.parsed_str.find('\"', nameStartIdx)\n",
    "        return self.parsed_str[nameStartIdx:nameEndIdx]\n",
    "    \n",
    "    def rating(self):\n",
    "        try:\n",
    "            return self.parsed.find(\"meta\", {\"itemprop\": \"ratingValue\"})[\"content\"]\n",
    "        except Exception as e:\n",
    "            return \"no rating\"\n",
    "    \n",
    "    def description(self):\n",
    "        desc = self._parse_description()\n",
    "        listical_desc = self._parse_description_listical(desc)\n",
    "        block_desc = self._parse_description_block(desc)\n",
    "        \n",
    "        if len(listical_desc) > 0:\n",
    "            return listical_desc + \"\\n\\n\" + block_desc\n",
    "        \n",
    "        return block_desc\n",
    "    \n",
    "    def _parse_description(self):\n",
    "        return self.parsed.find(\"div\", role=\"tabpanel\")\n",
    "\n",
    "    def _parse_description_listical(self, soup):\n",
    "        try:\n",
    "            out = [x.text for x in soup.ul.find_all(\"li\")]\n",
    "            return \"\\n\".join(out)\n",
    "        except Exception as e:\n",
    "            return \"\"\n",
    "\n",
    "    def _parse_description_block(self, soup):\n",
    "        try:\n",
    "            return soup.find(\"div\", {\"data-testid\": \"lblPDPDescriptionProduk\"}).text\n",
    "        except Exception as e:\n",
    "            return \"\""
   ]
  },
  {
   "cell_type": "markdown",
   "metadata": {},
   "source": [
    "### Demo parsing product page"
   ]
  },
  {
   "cell_type": "code",
   "execution_count": 10,
   "metadata": {},
   "outputs": [],
   "source": [
    "sample_url = 'https://www.tokopedia.com/alteccellular/samsung-galaxy-a52-8-128-ram-8gb-rom-128gb-garansi-resmi-sein-black?whid=0'\n",
    "r = requests.get(sample_url, headers=headers)\n",
    "sample_product = ProductPageSoup(r.content)"
   ]
  },
  {
   "cell_type": "code",
   "execution_count": 11,
   "metadata": {},
   "outputs": [
    {
     "data": {
      "text/plain": [
       "'Samsung Galaxy A52 8/128 RAM 8GB ROM 128GB GARANSI RESMI SEIN - BLACK'"
      ]
     },
     "execution_count": 11,
     "metadata": {},
     "output_type": "execute_result"
    }
   ],
   "source": [
    "sample_product.title()"
   ]
  },
  {
   "cell_type": "code",
   "execution_count": 12,
   "metadata": {},
   "outputs": [
    {
     "data": {
      "text/plain": [
       "'Kondisi: Baru\\nBerat: 500 Gram\\nKategori: Android OS\\nEtalase: SAMSUNG\\n\\nGaransi Resmi 1 Tahun Samsung Indonesia100% Original Baru dan SegelImei Terdaftar Resmi di KemenperinLayarDimensi\\t159.9 x 75.1 x 8.4 mmBerat\\t187 gUkuran Layar\\t6.5 inches, Super AmoledResolusi Layar\\t1080 x 2400 pixelsRasio Layar\\t 20:9Kerapatan Layar\\t~405 ppiFitur\\tCorning Gorilla GlassHardware & Software Chipset\\tQualcomm SM7225 Snapdragon 750G (8 nm)Processor\\tOcta-core (2×2.2 GHz Kryo 570 & 6×1.8 GHz Kryo 570)GPU\\tAdreno 619Sistem Operasi\\tAndroid 11User Interface\\tOne UI 3.0Ram / Memori Internal8GB / 128GBMemori Eksternal\\tmicroSDXCKamera BelakangResolusi\\t48 MP, f/2.0, 26mm (wide), 1/2.0″, 0.8µm, PDAF12 MP, f/2.2, 123˚ (ultrawide)5 MP, f/2.4, (macro)5 MP, f/2.2, (depth)Fitur\\tLED flash, panorama, HDR, Video\\t4K@30fps, 1080p@30/120fps; gyro-EISKamera DepanResolusi\\t32 MP, f/2.2, 26mm (wide), 1/2.8″, 0.8µmFitur\\tHDR, Video 4K@30fps, 1080p@30fpsKonektivitasSim Card\\tDual-SIMInternet\\tHSPA, LTE-A, Wi-Fi\\tWi-Fi 802.11 a/b/g/n/ac, dual-band, Wi-Fi Direct, hotspotBluetooth\\t5.0, A2DP, LEPort USB\\tUSB Type-C 2.0, USB On-The-GoNavigasi\\tA-GPS, GLONASS, BDS, GALILEOBateraiKapasitas\\tNon-removable Li-PoFitur\\tFast chargingSensor\\tFingerprint (under display), accelerometer, gyro, proximity, compass'"
      ]
     },
     "execution_count": 12,
     "metadata": {},
     "output_type": "execute_result"
    }
   ],
   "source": [
    "sample_product.description()"
   ]
  },
  {
   "cell_type": "code",
   "execution_count": 13,
   "metadata": {},
   "outputs": [
    {
     "data": {
      "text/plain": [
       "'https://images.tokopedia.net/img/cache/500-square/VqbcmM/2021/4/18/b649ae51-57b4-47b4-9746-f596c9486a95.jpg.webp?ect=4g'"
      ]
     },
     "execution_count": 13,
     "metadata": {},
     "output_type": "execute_result"
    }
   ],
   "source": [
    "sample_product.main_image_url()"
   ]
  },
  {
   "cell_type": "code",
   "execution_count": 14,
   "metadata": {},
   "outputs": [
    {
     "data": {
      "text/plain": [
       "'5.0'"
      ]
     },
     "execution_count": 14,
     "metadata": {},
     "output_type": "execute_result"
    }
   ],
   "source": [
    "sample_product.rating()"
   ]
  },
  {
   "cell_type": "code",
   "execution_count": 15,
   "metadata": {},
   "outputs": [
    {
     "data": {
      "text/plain": [
       "'Rp4.798.000'"
      ]
     },
     "execution_count": 15,
     "metadata": {},
     "output_type": "execute_result"
    }
   ],
   "source": [
    "sample_product.price()"
   ]
  },
  {
   "cell_type": "code",
   "execution_count": 16,
   "metadata": {},
   "outputs": [
    {
     "data": {
      "text/plain": [
       "'Altec Cellular'"
      ]
     },
     "execution_count": 16,
     "metadata": {},
     "output_type": "execute_result"
    }
   ],
   "source": [
    "sample_product.store_name()"
   ]
  },
  {
   "cell_type": "markdown",
   "metadata": {},
   "source": [
    "## Get product details for all url founds"
   ]
  },
  {
   "cell_type": "code",
   "execution_count": 20,
   "metadata": {},
   "outputs": [
    {
     "name": "stderr",
     "output_type": "stream",
     "text": [
      "100%|██████████| 100/100 [01:03<00:00,  1.57it/s]\n"
     ]
    }
   ],
   "source": [
    "product_details = []\n",
    "for url in tqdm(product_urls):\n",
    "    r = requests.get(url, headers=headers)\n",
    "    product_page = ProductPageSoup(r.content)\n",
    "    product_details.append({\n",
    "        \"title\": product_page.title(),\n",
    "        \"description\": product_page.description(),\n",
    "        \"image_link\": product_page.main_image_url(),\n",
    "        \"price\": product_page.price(),\n",
    "        \"rating\": product_page.rating(),\n",
    "        \"store_name\": product_page.store_name(),\n",
    "    })"
   ]
  },
  {
   "cell_type": "markdown",
   "metadata": {},
   "source": [
    "## Write to CSV"
   ]
  },
  {
   "cell_type": "code",
   "execution_count": 22,
   "metadata": {},
   "outputs": [],
   "source": [
    "import csv\n",
    "\n",
    "filename = \"output.csv\"\n",
    "f = open(filename, 'w')\n",
    "\n",
    "# create the csv writer\n",
    "writer = csv.writer(f)\n",
    "\n",
    "# write header\n",
    "writer.writerow([\"title\",\"description\",\"image_link\",\"price\",\"rating\",\"store_name\"])\n",
    "\n",
    "# write data\n",
    "for p in product_details:\n",
    "    writer.writerow([p[\"title\"], p[\"description\"], p[\"image_link\"], p[\"price\"], p[\"rating\"], p[\"store_name\"]])\n",
    "\n",
    "# close the file\n",
    "f.close()"
   ]
  },
  {
   "cell_type": "code",
   "execution_count": null,
   "metadata": {},
   "outputs": [],
   "source": []
  }
 ],
 "metadata": {
  "kernelspec": {
   "display_name": "Python 3",
   "language": "python",
   "name": "python3"
  },
  "language_info": {
   "codemirror_mode": {
    "name": "ipython",
    "version": 3
   },
   "file_extension": ".py",
   "mimetype": "text/x-python",
   "name": "python",
   "nbconvert_exporter": "python",
   "pygments_lexer": "ipython3",
   "version": "3.8.12"
  }
 },
 "nbformat": 4,
 "nbformat_minor": 4
}
